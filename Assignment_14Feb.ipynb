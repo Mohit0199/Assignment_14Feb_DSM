{
 "cells": [
  {
   "cell_type": "code",
   "execution_count": 1,
   "id": "711ec2c3-56be-417c-985f-b0023f559b8f",
   "metadata": {},
   "outputs": [],
   "source": [
    "# Q1. What is multithreading in python? Why is it used? Name the module used to handle threads in python.\n",
    "\n",
    "## Multithreading in Python refers to the ability of a program to execute multiple threads concurrently\n",
    "## within a single process. Each thread represents an independent flow of control, allowing different tasks\n",
    "## to be executed simultaneously. Python supports multithreading through the threading module."
   ]
  },
  {
   "cell_type": "code",
   "execution_count": 2,
   "id": "aed4fb0e-072e-4a72-b546-6ca4c5071e76",
   "metadata": {},
   "outputs": [],
   "source": [
    "# Q2. Why threading module used? Write the use of the following functions:\n",
    "# 1. activeCount()\n",
    "# 2. currentThread()\n",
    "# 3. enumerate()\n",
    "\n",
    "## The threading module is used to handle threads in Python. It provides a high-level interface for creating\n",
    "## and managing threads, along with synchronization primitives like locks, events, and condition variables\n",
    "## for coordinating access to shared resources among threads.\n",
    "\n",
    "## activeCount(): This function returns the number of currently active Thread objects.\n",
    "## currentThread(): This function returns the current Thread object representing the thread from which it is called.\n",
    "## enumerate(): This function returns a list of all Thread objects currently alive."
   ]
  },
  {
   "cell_type": "code",
   "execution_count": 3,
   "id": "e0fb149b-ff05-4108-a90c-14b14ea07e6c",
   "metadata": {},
   "outputs": [],
   "source": [
    "# Q3. Explain the following functions:\n",
    "# 1. run()\n",
    "# 2. start()\n",
    "# 3. join()\n",
    "# 4. isAlive()\n",
    "\n",
    "## run(): The run() method is a standard method in Python threading.\n",
    "## It represents the code to be executed by the thread when it is started.\n",
    "## When creating a custom thread by subclassing the Thread class,\n",
    "## we override the run() method to define the behavior of the thread\n",
    "\n",
    "## start(): The start() method is used to start the execution of a thread.\n",
    "\n",
    "## join(): The join() method is used to wait for the thread to complete its execution \n",
    "## before continuing with the main program.\n",
    "## It blocks the execution of the calling thread until the thread on which it is called completes.\n",
    "## This is useful for ensuring that all threads have finished their tasks before proceeding further.\n",
    "\n",
    "## isAlive(): The isAlive() method is used to determine whether a thread is currently executing or not."
   ]
  },
  {
   "cell_type": "code",
   "execution_count": 4,
   "id": "e823b969-8369-4c56-a13a-2f73e01943e0",
   "metadata": {},
   "outputs": [
    {
     "name": "stdout",
     "output_type": "stream",
     "text": [
      "List of squares: [1, 4, 9, 16, 25, 36, 49, 64, 81, 100]\n",
      "List of cubes: [1, 8, 27, 64, 125, 216, 343, 512, 729, 1000]\n"
     ]
    }
   ],
   "source": [
    "# Q4.  Write a python program to create two threads. Thread one must print the list of squares and thread \n",
    "## two must print the list of cubes.\n",
    "\n",
    "import threading\n",
    "\n",
    "def print_squares():\n",
    "    squares = [x ** 2 for x in range(1, 11)]\n",
    "    print(\"List of squares:\", squares)\n",
    "\n",
    "def print_cubes():\n",
    "    cubes = [x ** 3 for x in range(1, 11)]\n",
    "    print(\"List of cubes:\", cubes)\n",
    "\n",
    "t1 = threading.Thread(target=print_squares)\n",
    "t2 = threading.Thread(target=print_cubes)\n",
    "\n",
    "t1.start()\n",
    "t2.start()\n",
    "\n",
    "t1.join()\n",
    "t2.join()"
   ]
  },
  {
   "cell_type": "code",
   "execution_count": 8,
   "id": "197bd06e-eb8f-49a3-8da8-1f6255df43f9",
   "metadata": {},
   "outputs": [],
   "source": [
    "# Q5. State advantages and disadvantages of multithreading.\n",
    "\n",
    "## Advantages:\n",
    "## Improved Performance\n",
    "## Responsiveness\n",
    "## Resource Sharing\n",
    "## Simplified Design\n",
    "\n",
    "## Disadvantages:\n",
    "## Complexity\n",
    "## Debugging and Testing.\n",
    "## Resource Overhead"
   ]
  },
  {
   "cell_type": "code",
   "execution_count": 9,
   "id": "79369dd3-2b41-4d50-94f9-3f37ea739579",
   "metadata": {},
   "outputs": [],
   "source": [
    "# Q6. Explain deadlocks and race conditions.\n",
    "\n",
    "## deadlocks occur when multiple threads are blocked indefinitely due to cyclic dependencies on shared resources,\n",
    "## while race conditions occur when the outcome of a program depends on the timing or interleaving of thread execution.\n",
    "## Both issues can lead to incorrect program behavior and require careful handling to avoid in multithreaded programs.\n",
    "## Strategies such as proper synchronization, lock ordering, and avoiding unnecessary shared state can help mitigate\n",
    "## these problems."
   ]
  },
  {
   "cell_type": "code",
   "execution_count": null,
   "id": "1b67d98c-6dab-4609-b729-1dc547bfb7d0",
   "metadata": {},
   "outputs": [],
   "source": []
  },
  {
   "cell_type": "code",
   "execution_count": null,
   "id": "bf293133-19f0-47fc-a661-5cc22cfd89b4",
   "metadata": {},
   "outputs": [],
   "source": []
  }
 ],
 "metadata": {
  "kernelspec": {
   "display_name": "Python 3 (ipykernel)",
   "language": "python",
   "name": "python3"
  },
  "language_info": {
   "codemirror_mode": {
    "name": "ipython",
    "version": 3
   },
   "file_extension": ".py",
   "mimetype": "text/x-python",
   "name": "python",
   "nbconvert_exporter": "python",
   "pygments_lexer": "ipython3",
   "version": "3.10.8"
  }
 },
 "nbformat": 4,
 "nbformat_minor": 5
}
